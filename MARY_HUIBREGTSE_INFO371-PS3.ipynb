{
 "cells": [
  {
   "cell_type": "markdown",
   "metadata": {},
   "source": [
    "# Problem Set 3\n",
    "\n",
    "###Before You Start\n",
    "\n",
    "Make sure the following libraries load correctly (hit Ctrl-Enter). Note that while you are loading several powerful libraries, including machine learning libraries, the goal of this problem set is to implement several algorithms from scratch. In particular, you should *not* be using any built-in libraries for nearest neighbors, distance metrics, or cross-validation -- your mission is to write those algorithms in Python! Parts 1 and 2 will be relatively easy; Part 3 will take more time.\n",
    "\n",
    "*Also note:* For this assignment we are requiring you to use base **matplotlib** - no more Seaborn or other packages. This will help you become familiar with techniques for maintaining fine-grained control over your data visualizations. It will also help our graders, who spent countless hours trying to make various versions import for grading."
   ]
  },
  {
   "cell_type": "code",
   "execution_count": 3,
   "metadata": {
    "collapsed": true
   },
   "outputs": [],
   "source": [
    "import IPython\n",
    "import numpy as np\n",
    "import scipy as sp\n",
    "import pandas as pd\n",
    "import matplotlib\n",
    "import sklearn"
   ]
  },
  {
   "cell_type": "markdown",
   "metadata": {},
   "source": [
    "---\n",
    "\n",
    "## Introduction to the assignment\n",
    "\n",
    "For this assignment, you will be using the Boston Housing Prices Data Set.  This used to be housed by [UCI Machine Learning Repository](http://archive.ics.uci.edu/ml/datasets/Housing), but it is not housed there any more. You can read about it at [Kaggle](https://www.kaggle.com/vikrishnan/boston-house-prices) and at the [University of Toronto](https://www.cs.toronto.edu/~delve/data/boston/bostonDetail.html). Please read about the dataset carefully before continuing.  Use the following commands to load the dataset:\n"
   ]
  },
  {
   "cell_type": "code",
   "execution_count": 4,
   "metadata": {
    "collapsed": true
   },
   "outputs": [],
   "source": [
    "from sklearn.datasets import load_boston\n",
    "bdata = load_boston()\n"
   ]
  },
  {
   "cell_type": "markdown",
   "metadata": {},
   "source": [
    "The following commands will provide some basic information about the shape of the data:"
   ]
  },
  {
   "cell_type": "code",
   "execution_count": 5,
   "metadata": {},
   "outputs": [
    {
     "name": "stdout",
     "output_type": "stream",
     "text": [
      "dict_keys(['data', 'target', 'feature_names', 'DESCR'])\n",
      "['CRIM' 'ZN' 'INDUS' 'CHAS' 'NOX' 'RM' 'AGE' 'DIS' 'RAD' 'TAX' 'PTRATIO'\n",
      " 'B' 'LSTAT']\n",
      "(506, 13)\n",
      "(506,)\n"
     ]
    }
   ],
   "source": [
    "print(bdata.keys())\n",
    "print(bdata.feature_names)\n",
    "print(bdata.data.shape)\n",
    "print(bdata.target.shape)\n",
    "# uncomment the following if you want to see a lengthy description of the dataset\n",
    "# print bdata.DESCR\n",
    "\n",
    "data_pd = pd.DataFrame(columns=bdata.feature_names, data=bdata.data)\n",
    "data_pd['outcome'] = bdata.target \n"
   ]
  },
  {
   "cell_type": "markdown",
   "metadata": {},
   "source": [
    "---\n",
    "\n",
    "##Part 1: Descriptive analysis\n",
    "\n",
    "Before beginning the \"real\" work, dig into the data a bit do see what you're dealing with.  If you feel that you are still in the beginning stages of analyzing data in Python, no problem. That is understandable. Just make sure to read some of the online resources like [this one](https://github.com/jrjohansson/scientific-python-lectures).\n",
    "\n",
    "###1.1: Histogram of housing prices\n",
    "\n",
    "Below you will find some very basic code to make a very basic histogram of median housing prices (the \"target\" variable) for your dataset.  Your first task is to make this graph look pretty by doing the following:\n",
    "\n",
    "1. Add appropriate labels to the x and y axes, make sure to include units\n",
    "2. Change the bin width on the histogram to be $1000\n",
    "3. Remove the axes on the top and right side of the plot window\n",
    "4. Change the color of the bars to be green, and remove the black borders from the bars\n"
   ]
  },
  {
   "cell_type": "code",
   "execution_count": 6,
   "metadata": {},
   "outputs": [
    {
     "name": "stderr",
     "output_type": "stream",
     "text": [
      "C:\\Users\\maryh\\Anaconda3\\lib\\site-packages\\matplotlib\\cbook\\deprecation.py:106: MatplotlibDeprecationWarning: Adding an axes using the same arguments as a previous axes currently reuses the earlier instance.  In a future version, a new instance will always be created and returned.  Meanwhile, this warning can be suppressed, and the future behavior ensured, by passing a unique label to each axes instance.\n",
      "  warnings.warn(message, mplDeprecation, stacklevel=1)\n"
     ]
    },
    {
     "data": {
      "image/png": "[encoded data removed]",
      "text/plain": [
       "<matplotlib.figure.Figure at 0x13f52f50>"
      ]
     },
     "metadata": {},
     "output_type": "display_data"
    }
   ],
   "source": [
    "# prepare your jupyter notebook to work with matplotlib and import the library to something convenient\n",
    "%matplotlib inline  \n",
    "import matplotlib.pyplot as plt  \n",
    "\n",
    "# plots graph, changes color, changes bins to $1000\n",
    "plt.hist(bdata.target, bins = list(range(1, 55)), color='green')\n",
    "\n",
    "# Adds appropriate labels to the x and y axes \n",
    "plt.title('Median House Prices')\n",
    "plt.xlabel('Median value of owner-occupied homes in $1000s')\n",
    "plt.ylabel('count')\n",
    "\n",
    "#Remove the axes on the top and right side of the plot window\n",
    "ax = plt.axes()\n",
    "ax.spines['right'].set_visible(False)\n",
    "ax.spines['top'].set_visible(False)\n",
    "\n",
    "\n"
   ]
  },
  {
   "cell_type": "markdown",
   "metadata": {},
   "source": [
    "###1.2: Scatter plot of housing prices and crime\n",
    "\n",
    "Use matplotlib to create a scatter plot that shows the relationship between the median value of the home (y-axis) and the per-capita crime rate (x-axis).  Properly label your axes, and make sure that your graphic looks polished and professional.\n"
   ]
  },
  {
   "cell_type": "code",
   "execution_count": 7,
   "metadata": {},
   "outputs": [
    {
     "name": "stderr",
     "output_type": "stream",
     "text": [
      "C:\\Users\\maryh\\Anaconda3\\lib\\site-packages\\matplotlib\\cbook\\deprecation.py:106: MatplotlibDeprecationWarning: Adding an axes using the same arguments as a previous axes currently reuses the earlier instance.  In a future version, a new instance will always be created and returned.  Meanwhile, this warning can be suppressed, and the future behavior ensured, by passing a unique label to each axes instance.\n",
      "  warnings.warn(message, mplDeprecation, stacklevel=1)\n"
     ]
    },
    {
     "data": {
      "image/png": "[encoded data removed]",
      "text/plain": [
       "<matplotlib.figure.Figure at 0x13f52a50>"
      ]
     },
     "metadata": {},
     "output_type": "display_data"
    }
   ],
   "source": [
    "# enter your code below\n",
    "\n",
    "# plots graph, changes color, changes bins to $1000\n",
    "plt.scatter(data_pd.CRIM,bdata.target, color='green')\n",
    "\n",
    "# Adds appropriate labels to the x and y axes \n",
    "plt.title('Housing prices and crime')\n",
    "plt.xlabel('Median value of owner-occupied homes in $1000s')\n",
    "plt.ylabel('per capita crime rate by town')\n",
    "\n",
    "#Remove the axes on the top and right side of the plot window\n",
    "ax = plt.axes()\n",
    "ax.spines['right'].set_visible(False)\n",
    "ax.spines['top'].set_visible(False)"
   ]
  },
  {
   "cell_type": "markdown",
   "metadata": {},
   "source": [
    "###1.3 Create your own (creative and effective) visualization\n",
    "\n",
    "Use another type of graph or chart to illustrate an interesting pattern in the data.  Be creative in your visualization, and make sure to produce a \"publication-quality\" graph.  Points will be given for useful and creative graphs; points will be deducted for confusing issues like unlabeled axes.  If you're new to data visualization, [this guide](http://pubs.aeaweb.org/doi/pdfplus/10.1257/jep.28.1.209) is a good place to start."
   ]
  },
  {
   "cell_type": "code",
   "execution_count": 8,
   "metadata": {},
   "outputs": [
    {
     "name": "stderr",
     "output_type": "stream",
     "text": [
      "C:\\Users\\maryh\\Anaconda3\\lib\\site-packages\\matplotlib\\cbook\\deprecation.py:106: MatplotlibDeprecationWarning: Adding an axes using the same arguments as a previous axes currently reuses the earlier instance.  In a future version, a new instance will always be created and returned.  Meanwhile, this warning can be suppressed, and the future behavior ensured, by passing a unique label to each axes instance.\n",
      "  warnings.warn(message, mplDeprecation, stacklevel=1)\n"
     ]
    },
    {
     "data": {
      "image/png": "[encoded data removed]",
      "text/plain": [
       "<matplotlib.figure.Figure at 0x15904170>"
      ]
     },
     "metadata": {},
     "output_type": "display_data"
    }
   ],
   "source": [
    "# enter your code here, \n",
    "\n",
    "plt.close()\n",
    "plt.scatter(data_pd.B,data_pd.outcome, color='red')\n",
    "\n",
    "# Adds appropriate labels to the x and y axes \n",
    "plt.title('Housing prices and Proportion of Blacks by town')\n",
    "plt.xlabel('Median value of owner-occupied homes in $1000s')\n",
    "plt.ylabel('proportion of blacks by town (1000(Bk - 0.63)^2)')\n",
    "\n",
    "#Remove the axes on the top and right side of the plot window\n",
    "ax = plt.axes()\n",
    "ax.spines['right'].set_visible(False)\n",
    "ax.spines['top'].set_visible(False)\n"
   ]
  },
  {
   "cell_type": "markdown",
   "metadata": {},
   "source": [
    "---\n",
    "\n",
    "##Part 2: Experimental Setup\n",
    "\n",
    "The goal of the next few sections is to design an experiment to predict the median home value for an instance in the data.\n",
    "\n",
    "###2.1 Begin by writing a function to compute the Root Mean Squared Error for a list of numbers\n",
    "\n",
    "You can find the sqrt function in the Numpy package. Furthermore the details of RMSE can be found on [Wikipedia](http://en.wikipedia.org/wiki/Root-mean-square_deviation)\n",
    "\n"
   ]
  },
  {
   "cell_type": "code",
   "execution_count": 113,
   "metadata": {},
   "outputs": [
    {
     "name": "stdout",
     "output_type": "stream",
     "text": [
      "2.0816659994661326\n"
     ]
    }
   ],
   "source": [
    "\"\"\"\n",
    "Function\n",
    "--------\n",
    "compute_rmse\n",
    "\n",
    "Given two arrays, one of actual values and one of predicted values,\n",
    "compute the Roote Mean Squared Error\n",
    "\n",
    "Parameters\n",
    "----------\n",
    "predictions : array\n",
    "    Array of numerical values corresponding to predictions for each of the N observations\n",
    "\n",
    "yvalues : array\n",
    "    Array of numerical values corresponding to the actual values for each of the N observations\n",
    "\n",
    "Returns\n",
    "-------\n",
    "rmse : int\n",
    "    Root Mean Squared Error of the prediction\n",
    "\n",
    "Example\n",
    "-------\n",
    ">>> print compute_rmse((2,2,3),(0,2,6)\n",
    "2.16\n",
    "\"\"\"\n",
    "def compute_rmse(predictions, yvalues):\n",
    "   \n",
    "    total_sum = 0\n",
    "    for i, value in enumerate(yvalues):\n",
    "        dif = (predictions[i] - yvalues[i]) ** 2\n",
    "        total_sum = total_sum + dif\n",
    "    f = total_sum / len(yvalues)\n",
    "    rmse = np.sqrt(f)\n",
    "    return rmse\n",
    "print(compute_rmse((2,2,3),(0,2,6)))   "
   ]
  },
  {
   "cell_type": "markdown",
   "metadata": {},
   "source": [
    "###2.2 Divide your data into training and testing datasets\n",
    "\n",
    "Randomly select 66% of the data and put this in a training dataset (call this \"bdata_train\"), and place the remaining 34% in a testing dataset (call this \"bdata_test\")\n"
   ]
  },
  {
   "cell_type": "code",
   "execution_count": 115,
   "metadata": {
    "collapsed": true
   },
   "outputs": [],
   "source": [
    "# leave the following line untouched, it will help ensure that your \"random\" split is the same \"random\" split used by the rest of the class\n",
    "np.random.seed(seed=13579)\n",
    "\n",
    "from sklearn.model_selection import train_test_split # typically done at the start of the script\n",
    "bdata_x_train, bdata_x_test, bdata_y_train, bdata_y_test = train_test_split(bdata.data, bdata.target, test_size = 0.34)\n",
    "# changing arrays to dataframe\n",
    "bdata_x_train = pd.DataFrame(bdata_x_train, columns = bdata.feature_names)\n",
    "bdata_x_test = pd.DataFrame(bdata_x_test, columns = bdata.feature_names)\n",
    "bdata_y_train = pd.DataFrame(bdata_y_train, columns = [\"MEDV\"])\n",
    "bdata_y_test = pd.DataFrame(bdata_y_test, columns = [\"MEDV\"])\n",
    "\n"
   ]
  },
  {
   "cell_type": "markdown",
   "metadata": {},
   "source": [
    "###2.3 Use a very bad baseline for prediction, and compute RMSE\n",
    "\n",
    "Create a model that predicts, for every observation x_i, that the median home value is the average (mean) of the median values for all instances in the training set.  Compute the RMSE on the training set.  Now compute the RMSE on the test data set (but use the model you trained on the training set!).  How does RMSE compare for training vs. testing datasets? Is this what you expected, and why?"
   ]
  },
  {
   "cell_type": "code",
   "execution_count": 117,
   "metadata": {},
   "outputs": [
    {
     "name": "stdout",
     "output_type": "stream",
     "text": [
      "\n",
      "bad baseline average of the means of houseing prices train data MEDV    23.066366\n",
      "dtype: float64\n",
      "\n",
      "bad baseline average of the means of houseing prices test data MEDV    23.066366\n",
      "dtype: float64\n",
      "\n",
      "RMSE between predicitions and traing data target values\n",
      " [9.43068968]\n",
      "\n",
      "RMSE between predicitions and testing data target vales\n",
      " [8.74957419]\n"
     ]
    }
   ],
   "source": [
    "# function creating a bad baseline\n",
    "def bad_baseline(DataFrame):\n",
    "    avg = np.mean(bdata_y_train)\n",
    "    #DataFrame['bad_base'] = avg\n",
    "    return(avg)\n",
    "\n",
    "# saved average\n",
    "avg_train = bad_baseline(bdata_x_train)\n",
    "avg_test = bad_baseline(bdata_x_test)\n",
    "\n",
    "# turned average into numpy array for finding rmse\n",
    "bad_train = np.full((len(bdata_x_train), 1), avg_train)\n",
    "bad_test = np.full((len(bdata_x_test), 1), avg_test)\n",
    "  \n",
    "\n",
    "# running model on both test data and train data, then printing results\n",
    "print('\\nbad baseline average of the means of houseing prices train data', avg_train)\n",
    "print('\\nbad baseline average of the means of houseing prices test data', avg_test)\n",
    "\n",
    "# using predictions train target and finding RMSE\n",
    "print('\\nRMSE between predicitions and traing data target values\\n', compute_rmse(bdata_y_train.values, bad_train))\n",
    "\n",
    "# using preds on test data and finding RMSE\n",
    "print('\\nRMSE between predicitions and testing data target vales\\n', compute_rmse(bdata_y_test.values, bad_test))"
   ]
  },
  {
   "cell_type": "markdown",
   "metadata": {},
   "source": [
    "##### Error is horrible:\n",
    "The root mean squared error is high when tested against both train and test datasets. The test data set has a highter error, which makes sense; the base_line model was trained by the train data, and should have a slight smaller error when tested against the train data. "
   ]
  },
  {
   "cell_type": "markdown",
   "metadata": {},
   "source": [
    "---\n",
    "\n",
    "##Part 3: Nearest Neighbors\n"
   ]
  },
  {
   "cell_type": "markdown",
   "metadata": {},
   "source": [
    "###3.1 Nearest Neighbors: Distance function\n",
    "Let's try and build a machine learning algorithm to beat the \"Average Value\" baseline that you computed above.  Soon you will implement the Nearest Neighbor algorithm, but first you need to create a distance metric to measure the distance (and similarity) between two instances.  Write a generic function to compute the L-Norm distance (called the [*p*-norm](http://en.wikipedia.org/wiki/Norm_(mathematics) distance on Wikipedia). Verify that your function works by computing the Euclidean distance between the points (3,4) and (6,8)."
   ]
  },
  {
   "cell_type": "code",
   "execution_count": 106,
   "metadata": {},
   "outputs": [
    {
     "name": "stdout",
     "output_type": "stream",
     "text": [
      "5.0\n"
     ]
    }
   ],
   "source": [
    "\"\"\"\n",
    "Function\n",
    "--------\n",
    "distance\n",
    "\n",
    "Given two instances and a value for L, return the L-Norm distance between them\n",
    "\n",
    "Parameters\n",
    "----------\n",
    "x1, x2 : array\n",
    "    Array of numerical values corresponding to predictions for each of the N observations\n",
    "\n",
    "L: int\n",
    "    Value of L to use in computing distances\n",
    "\n",
    "Returns\n",
    "-------\n",
    "dist : int\n",
    "    The L-norm distance between instances\n",
    "\n",
    "Example\n",
    "-------\n",
    ">>> print distance((3,4),(6,8),2)\n",
    "7\n",
    "\n",
    "\"\"\"\n",
    "# computes distance \n",
    "def distance(x1, x2, L):\n",
    "    dist = 0\n",
    "    # looping was faster than np.sum\n",
    "    for i in range (len(x1)):\n",
    "        dist  += (x1[i] - x2[i])**(L)\n",
    "    dist = dist ** (1/L)\n",
    "    return dist\n",
    "\n",
    "print(distance((3,4),(6,8),2))\n"
   ]
  },
  {
   "cell_type": "markdown",
   "metadata": {},
   "source": [
    "###3.2 Basic Nearest Neighbor algorithm\n",
    "\n",
    "Now things get fun.  Your task is to implement a basic nearest neighbor algorithm from scratch.  Your simple model will use two input features (CRIM and RM) and a single output (MEDV).  In other words, you are modelling the relationship between median home value and crime rates and house size.\n",
    "\n",
    "Use your training data (bdata_train) to \"fit\" your model, although as you know, with Nearest Neighbors there is no real training, you just need to keep your training data in memory.  Write a function that predicts, for each instance in the testing data (bdata_test), the median home value using the nearest neighbor algorithm we discussed in class.  Since this is a small dataset, you can simply compare your test instance to every instance in the training set, and return the MEDV value of the closest training instance.  Have your function take L as an input, where L is passed to the distance function.\n",
    "\n",
    "Compute the RMSE for the Nearest Neighbor predictions on the test set, using the Euclidean distance.  Report an estimate of the total time taken by your code to predict the nearest neighbors for all the values in the test data set."
   ]
  },
  {
   "cell_type": "code",
   "execution_count": 23,
   "metadata": {
    "collapsed": true
   },
   "outputs": [],
   "source": [
    "# Seperating the two features we will use to train classifier \n",
    "\n",
    "features = ['CRIM', 'RM']\n",
    "\n"
   ]
  },
  {
   "cell_type": "code",
   "execution_count": 69,
   "metadata": {
    "collapsed": true
   },
   "outputs": [],
   "source": [
    "\"\"\"\n",
    "# Since we don't need to train our data, we are only store distances\n",
    "in memmory. It then needs to select the K nearest data points \n",
    "\n",
    "Parameters: train data features, test data features, train data outcomes, distance parameter (L), # of neighbors(K)\n",
    "Create two functions: \n",
    "getTargetData: finds nearest target vaules and votes for each prediction, returns prediction for nearest data point\n",
    "nneighbor: returns all predictions \n",
    "\"\"\"\n",
    "import collections # for Counter()\n",
    "\n",
    "# this function is called in nneighbors. returns the max predicted value in K range\n",
    "def getTargetData(X_train, X_test, y_train, L,K):\n",
    "    distances = []\n",
    "    target = []\n",
    "    \n",
    "    # getting distances\n",
    "    for i in range (len(X_train)):\n",
    "        dist = distance(X_train[i, :],X_test,L)\n",
    "        distances.append([dist,i])\n",
    "    \n",
    "    # sorting distance\n",
    "    distances = sorted(distances)\n",
    "    \n",
    "    # list of K neighbor targets\n",
    "    for i in range(K):\n",
    "        num = distances[i][1]\n",
    "        target.append(y_train[num])\n",
    "    \n",
    "    # voting and returning most common value\n",
    "    return np.amax(target)\n",
    "    #return(collections.Counter(target).most_common(1)[0][0])\n",
    "\n",
    "import time\n",
    "\n",
    "def nneighbor(X_train, X_test, y_train, L, K, features, bdata_y_test, norm = False, Print = True):\n",
    "    start_time = time.time()\n",
    "    pred = []\n",
    "   \n",
    "    if norm == True:\n",
    "        X_train = normalize(np.array(X_train[features]))\n",
    "        y_train = normalize(np.array(y_train))\n",
    "        X_test = normalize(np.array(X_test[features]))\n",
    "    else:\n",
    "    # getting features\n",
    "        X_train = np.array(X_train[features])\n",
    "        y_train = np.array(y_train)\n",
    "        X_test = np.array(X_test[features])\n",
    "    \n",
    "    # for each data point in test data, calls getTargetData and returns prediction \n",
    "    for i in range(len(X_test)):\n",
    "        pred.append(getTargetData(X_train ,X_test[i, :], y_train, L, K))\n",
    "\n",
    "    \n",
    "    error = compute_rmse(np.array(pred), np.array(bdata_y_test))\n",
    "    if Print == True:\n",
    "        print('features = ', features)\n",
    "        print('distance parameter = ', L)\n",
    "        print('K = ', K)\n",
    "        print('RMSE = ', error)\n",
    "        print (\"Time taken: \" + str(round(time.time() - start_time,2)) + \" seconds\")\n",
    "    \n",
    "    # return predictions\n",
    "    return pred\n",
    "\n",
    "#your additional code here\n",
    "\n",
    "\n",
    "\n"
   ]
  },
  {
   "cell_type": "code",
   "execution_count": 70,
   "metadata": {},
   "outputs": [
    {
     "name": "stdout",
     "output_type": "stream",
     "text": [
      "features =  ['CRIM', 'RM']\n",
      "distance parameter =  2\n",
      "K =  1\n",
      "RMSE =  [6.6810101]\n",
      "Time taken: 0.24 seconds\n"
     ]
    }
   ],
   "source": [
    "# computing predictions using knn\n",
    "pred = nneighbor(bdata_x_train,bdata_x_test, bdata_y_train,2,1,features, bdata_y_test)"
   ]
  },
  {
   "cell_type": "markdown",
   "metadata": {},
   "source": [
    "###3.3 Results and Normalization\n",
    "\n",
    "If you were being astute, you would have noticed that we never normalized our features -- a big no-no with Nearest Neighbor algorithms.  Write a generic normalization function that takes as input an array of values for a given feature, and returns the normalized array (subtract the mean and divide by the standard deviation).\n",
    "\n",
    "Re-run the Nearest Neighbor algorithm on the normalized dataset (still just using CRIM and RM as input), and compare the RMSE from this method with your previous RMSE evaluations.\n",
    "\n",
    "*NOTE*: To normalize properly, best practice is to compute the mean and standard deviation on the training set, and use these values to normalize the testing dataset. However, for this problem set, it is okay if you separately normalize each dataset using the respective mean and standard deviation."
   ]
  },
  {
   "cell_type": "code",
   "execution_count": 27,
   "metadata": {
    "collapsed": true
   },
   "outputs": [],
   "source": [
    "\"\"\"\n",
    "Takes in raw data as parameter, nomalizes and returns the data\n",
    "\n",
    "\"\"\"\n",
    "def normalize(raw_data):\n",
    "    normalized_data = []\n",
    "    for i in range (len(raw_data.T)):\n",
    "        normalized_data.append((raw_data[:,i] - np.mean(raw_data[:,i]) / np.std(raw_data[:,i]))) \n",
    "    #normalized_data = raw_data - np.mean(raw_data) / np.std(raw_data)\n",
    "    normalized_data = np.array(normalized_data).T\n",
    "    return normalized_data\n",
    "\n",
    "#your additional code here"
   ]
  },
  {
   "cell_type": "code",
   "execution_count": 28,
   "metadata": {},
   "outputs": [
    {
     "name": "stdout",
     "output_type": "stream",
     "text": [
      "features =  ['CRIM', 'RM']\n",
      "distance parameter =  2\n",
      "K =  1\n",
      "RMSE =  [7.95552395]\n",
      "Time taken: 0.32 seconds\n"
     ]
    }
   ],
   "source": [
    "# added normalizing into function nneighbor function\n",
    "pred_norm = nneighbor(bdata_x_train,bdata_x_test, bdata_y_train,2,1,features, bdata_y_test, norm = True)"
   ]
  },
  {
   "cell_type": "markdown",
   "metadata": {},
   "source": [
    "*enter your observations here*\n",
    "I splited the data two different ways: fist using pandas and ranomly sampeling\n",
    "Errors were different. Error was lower (7.2) when data was split the first way. When the data was nomalized, the error went up to 8.7. \n",
    "Second way: second, using sklearn using train/test split. Error went down slightly when data was normalized. however, the error is generally highter when using this way to split the data. I decided to go with train/test split"
   ]
  },
  {
   "cell_type": "markdown",
   "metadata": {},
   "source": [
    "###3.4 Optimization\n",
    "\n",
    "A lot of the decisions we've made so far have been arbitrary.  Try to increase the performance of your nearest neighbor algorithm by adding features that you think might be relevant, and by using different values of L in the distance function.  Try a model that uses a different set of 2 features, then try at least one model that uses more than 4 features, then try using a different value of L.  If you're having fun, try a few different combinations of features and L!\n",
    "\n",
    "What combination of features and distance function provide the lowest RMSE?  Do your decisions affect the running time of the algorithm?"
   ]
  },
  {
   "cell_type": "code",
   "execution_count": 29,
   "metadata": {},
   "outputs": [
    {
     "name": "stdout",
     "output_type": "stream",
     "text": [
      "features =  ['CRIM', 'ZN', 'INDUS', 'RM']\n"
     ]
    },
    {
     "name": "stderr",
     "output_type": "stream",
     "text": [
      "C:\\Users\\maryh\\Anaconda3\\lib\\site-packages\\ipykernel_launcher.py:31: RuntimeWarning: invalid value encountered in double_scalars\n"
     ]
    },
    {
     "name": "stdout",
     "output_type": "stream",
     "text": [
      "distance parameter =  2\n",
      "K =  1\n",
      "RMSE =  [7.64384128]\n",
      "Time taken: 0.53 seconds\n",
      "features =  ['CRIM', 'ZN', 'INDUS', 'AGE', 'B']\n",
      "distance parameter =  3\n",
      "K =  1\n",
      "RMSE =  [10.13199632]\n",
      "Time taken: 0.72 seconds\n",
      "features =  ['CRIM', 'ZN', 'INDUS', 'AGE', 'B']\n",
      "distance parameter =  2\n",
      "K =  1\n",
      "RMSE =  [9.12047962]\n",
      "Time taken: 0.56 seconds\n",
      "features =  ['TAX', 'ZN', 'NOX', 'AGE']\n",
      "distance parameter =  5\n",
      "K =  1\n",
      "RMSE =  [9.86657956]\n",
      "Time taken: 0.61 seconds\n",
      "features =  ['TAX', 'ZN', 'NOX', 'AGE']\n",
      "distance parameter =  2\n",
      "K =  1\n",
      "RMSE =  [8.85120655]\n",
      "Time taken: 0.44 seconds\n"
     ]
    }
   ],
   "source": [
    "# Testing nneighbors with different features and different values for L\n",
    "features2 = ['CRIM','ZN', 'INDUS', 'RM']\n",
    "pred = nneighbor(bdata_x_train,bdata_x_test, bdata_y_train,2,1,features2, bdata_y_test, norm = True)\n",
    "\n",
    "features3 = ['CRIM','ZN', 'INDUS', 'AGE', 'B']\n",
    "pred = nneighbor(bdata_x_train,bdata_x_test, bdata_y_train,3,1,features3, bdata_y_test, norm = True)\n",
    "\n",
    "features4 = ['CRIM','ZN', 'INDUS', 'AGE', 'B']\n",
    "pred = nneighbor(bdata_x_train,bdata_x_test, bdata_y_train,2,1,features4, bdata_y_test, norm = True)\n",
    "\n",
    "features5 = ['TAX','ZN', 'NOX', 'AGE']\n",
    "pred = nneighbor(bdata_x_train,bdata_x_test, bdata_y_train,5,1,features5, bdata_y_test, norm = True)\n",
    "\n",
    "features6 = ['TAX','ZN', 'NOX', 'AGE']\n",
    "pred = nneighbor(bdata_x_train,bdata_x_test, bdata_y_train,2,1,features6, bdata_y_test, norm = True)\n",
    "\n"
   ]
  },
  {
   "cell_type": "markdown",
   "metadata": {},
   "source": [
    "The Euclidian distance seems to be the best distance that gives the smalles error. Also, features that include both CRIM and RM seem to give better RMSE values"
   ]
  },
  {
   "cell_type": "markdown",
   "metadata": {},
   "source": [
    "### 3.5 Cross-Validation\n",
    "\n",
    "The more you tinkered with your features and distance function, the higher the risk that you overfit your training data.  To prevent this sort of overfitting, you need to use cross-validation (see K-fold [cross-validation](http://en.wikipedia.org/wiki/Cross-validation_(statistics)).  Here you must implement a simple k-fold cross-validation algorithm yourself.  The function you write here will be used several more times in this problem set, so do your best to write efficient code! (Note that the sklearn package has a built-in [K-fold](http://scikit-learn.org/stable/modules/cross_validation.html#cross-validation) iterator -- you should *not* be invoking that or any related algorithms in this section of the problem set.)\n",
    "\n",
    "Use 10-fold cross-validation and report the average RMSE for Nearest Neighbors using Euclidean distance with CRIM and RM input features, as well as the total running time for the full run of 10 folds.  In other words, randomly divide your dataset into 10 equally-sized samples, and for each of 10 iterations (the \"folds\"), use 9 samples as \"training data\" (even though there is no training in k-NN!), and the remaining 1 sample for testing.  Compute the RMSE of that particular test set, then move on to the next iteration.  Report the average RMSE across the 10 iterations."
   ]
  },
  {
   "cell_type": "code",
   "execution_count": 68,
   "metadata": {
    "collapsed": true
   },
   "outputs": [],
   "source": [
    "import math # for rounding\n",
    "\n",
    "# Does K-fold cross validation calling knn model. takes parameters dataframe, selected features, distance parameter, choice \n",
    "# for K\n",
    "def corss_val(data_pd, features, L, K):\n",
    "    start_time = time.time()\n",
    "    \n",
    "    # copy dataframe to radomly partition test data from\n",
    "    bdata_copy = data_pd.copy()\n",
    "    num = math.floor(len(data_pd) / 10)\n",
    "    counter = 10\n",
    "    error = 0\n",
    "\n",
    "   \n",
    "    while (counter > 0):\n",
    "        # randomly grabbing sample of size of data divided by folds for test data \n",
    "        x_test = bdata_copy.sample(num)\n",
    "    \n",
    "        # subtracting randomly grabbed data from copy of data set, so data is not randomly grabbed again\n",
    "        bdata_copy = bdata_copy.iloc[~bdata_copy.index.isin(x_test.index), :]\n",
    "\n",
    "        # geting training data by pulling out the indexes of test data\n",
    "        x_train = data_pd.iloc[~data_pd.index.isin(x_test.index), :]\n",
    "    \n",
    "        # splitting features and outcomes, normalizing features\n",
    "        y_train = x_train.outcome\n",
    "        y_test = x_test.outcome\n",
    "        # using knn to predict test outcomes\n",
    "        preds = nneighbor(x_train, x_test, y_train, L, K, features, y_test, norm = False, Print = False)\n",
    "    \n",
    "        # computing error, summing \n",
    "        error =+ compute_rmse(np.array(pred), np.array(y_test))    \n",
    "        counter = counter - 1\n",
    "    # calculating average error\n",
    "    error = error/10\n",
    "    \n",
    "    # printing stats for observing\n",
    "    print('Selected Features: ', features)\n",
    "    print('Distance Parameter (L): ', L)\n",
    "    print('K value: ', K)\n",
    "    print('Average error: ', error)\n",
    "    print (\"Time taken: \" + str(round(time.time() - start_time,2)) + \" seconds\")\n",
    "    return error\n",
    "\n",
    "\n"
   ]
  },
  {
   "cell_type": "markdown",
   "metadata": {},
   "source": [
    "###3.6 K-Nearest Neighbors Algorithm\n",
    "\n",
    "Implement the K-Nearest Neighbors algorithm.  Using 10-fold cross validation, report the RMSE for K=3 and the running time of the algorithm."
   ]
  },
  {
   "cell_type": "code",
   "execution_count": 67,
   "metadata": {},
   "outputs": [
    {
     "name": "stderr",
     "output_type": "stream",
     "text": [
      "C:\\Users\\maryh\\Anaconda3\\lib\\site-packages\\ipykernel_launcher.py:31: RuntimeWarning: invalid value encountered in double_scalars\n"
     ]
    },
    {
     "name": "stdout",
     "output_type": "stream",
     "text": [
      "Selected Features:  ['CRIM', 'ZN', 'RM', 'AGE', 'DIS', 'TAX']\n",
      "Distance Parameter (L):  3\n",
      "K value:  10\n",
      "Average error:  1.074790993416405\n",
      "Time taken: 1.79 seconds\n"
     ]
    }
   ],
   "source": [
    "\"\"\"\n",
    "Since I wrote Kneighbors in the origional function, All I needed to do is call my cross validation function to and set K\n",
    "as a parameter other than one. The parameters in Knn is the full dataframe, features, Distance parameter, and K (number of \n",
    "neighbors). It returns the Average error generated from the K folds. \n",
    "\"\"\"\n",
    "\n",
    "def knn(data_pd,features, L, K):\n",
    "    \n",
    "    return corss_val(data_pd, features, L, K) \n",
    "\n",
    "# enter your additional code here\n",
    "\n",
    "error = knn(data_pd, features7, 3, 10)"
   ]
  },
  {
   "cell_type": "code",
   "execution_count": 53,
   "metadata": {},
   "outputs": [
    {
     "name": "stdout",
     "output_type": "stream",
     "text": [
      "Selected Features:  ['CRIM', 'ZN', 'RM', 'AGE', 'DIS', 'TAX']\n",
      "Distance Parameter (L):  2\n",
      "K value:  1\n",
      "Average error:  1.103668802578429\n",
      "Time taken: 1.74 seconds\n",
      "Selected Features:  ['CRIM', 'ZN', 'RM', 'AGE', 'DIS', 'TAX']\n",
      "Distance Parameter (L):  2\n",
      "K value:  2\n",
      "Average error:  1.375112223363528\n",
      "Time taken: 1.83 seconds\n",
      "Selected Features:  ['CRIM', 'ZN', 'RM', 'AGE', 'DIS', 'TAX']\n",
      "Distance Parameter (L):  2\n",
      "K value:  3\n",
      "Average error:  1.178419886997475\n",
      "Time taken: 1.72 seconds\n",
      "Selected Features:  ['CRIM', 'ZN', 'RM', 'AGE', 'DIS', 'TAX']\n",
      "Distance Parameter (L):  2\n",
      "K value:  4\n",
      "Average error:  1.3750449582925033\n",
      "Time taken: 1.94 seconds\n",
      "Selected Features:  ['CRIM', 'ZN', 'RM', 'AGE', 'DIS', 'TAX']\n",
      "Distance Parameter (L):  2\n",
      "K value:  5\n",
      "Average error:  1.470716324135976\n",
      "Time taken: 1.74 seconds\n",
      "Selected Features:  ['CRIM', 'ZN', 'RM', 'AGE', 'DIS', 'TAX']\n",
      "Distance Parameter (L):  2\n",
      "K value:  6\n",
      "Average error:  1.1075924911349582\n",
      "Time taken: 1.81 seconds\n",
      "Selected Features:  ['CRIM', 'ZN', 'RM', 'AGE', 'DIS', 'TAX']\n",
      "Distance Parameter (L):  2\n",
      "K value:  7\n",
      "Average error:  1.2875140967482293\n",
      "Time taken: 1.59 seconds\n",
      "Selected Features:  ['CRIM', 'ZN', 'RM', 'AGE', 'DIS', 'TAX']\n",
      "Distance Parameter (L):  2\n",
      "K value:  8\n",
      "Average error:  1.3484721884864181\n",
      "Time taken: 1.66 seconds\n",
      "Selected Features:  ['CRIM', 'ZN', 'RM', 'AGE', 'DIS', 'TAX']\n",
      "Distance Parameter (L):  2\n",
      "K value:  9\n",
      "Average error:  1.3876517009398825\n",
      "Time taken: 1.64 seconds\n",
      "Selected Features:  ['CRIM', 'ZN', 'RM', 'AGE', 'DIS', 'TAX']\n",
      "Distance Parameter (L):  2\n",
      "K value:  10\n",
      "Average error:  1.4242099006068882\n",
      "Time taken: 1.77 seconds\n",
      "Selected Features:  ['CRIM', 'ZN', 'RM', 'AGE', 'DIS', 'TAX']\n",
      "Distance Parameter (L):  2\n",
      "K value:  11\n",
      "Average error:  1.0612368216043016\n",
      "Time taken: 2.0 seconds\n",
      "Selected Features:  ['CRIM', 'ZN', 'RM', 'AGE', 'DIS', 'TAX']\n",
      "Distance Parameter (L):  2\n",
      "K value:  12\n",
      "Average error:  1.2079726610147694\n",
      "Time taken: 1.75 seconds\n",
      "Selected Features:  ['CRIM', 'ZN', 'RM', 'AGE', 'DIS', 'TAX']\n",
      "Distance Parameter (L):  2\n",
      "K value:  13\n",
      "Average error:  1.547720810327925\n",
      "Time taken: 1.87 seconds\n",
      "Selected Features:  ['CRIM', 'ZN', 'RM', 'AGE', 'DIS', 'TAX']\n",
      "Distance Parameter (L):  2\n",
      "K value:  14\n",
      "Average error:  1.4065061278458066\n",
      "Time taken: 1.84 seconds\n",
      "Selected Features:  ['CRIM', 'ZN', 'RM', 'AGE', 'DIS', 'TAX']\n",
      "Distance Parameter (L):  2\n",
      "K value:  15\n",
      "Average error:  1.2607823619060883\n",
      "Time taken: 1.91 seconds\n",
      "Selected Features:  ['CRIM', 'ZN', 'RM', 'AGE', 'DIS', 'TAX']\n",
      "Distance Parameter (L):  2\n",
      "K value:  16\n",
      "Average error:  1.3320891476546024\n",
      "Time taken: 2.01 seconds\n",
      "Selected Features:  ['CRIM', 'ZN', 'RM', 'AGE', 'DIS', 'TAX']\n",
      "Distance Parameter (L):  2\n",
      "K value:  17\n",
      "Average error:  1.2085273704960109\n",
      "Time taken: 1.71 seconds\n",
      "Selected Features:  ['CRIM', 'ZN', 'RM', 'AGE', 'DIS', 'TAX']\n",
      "Distance Parameter (L):  2\n",
      "K value:  18\n",
      "Average error:  1.2025999376106058\n",
      "Time taken: 1.85 seconds\n",
      "Selected Features:  ['CRIM', 'ZN', 'RM', 'AGE', 'DIS', 'TAX']\n",
      "Distance Parameter (L):  2\n",
      "K value:  19\n",
      "Average error:  1.0621731132837533\n",
      "Time taken: 1.82 seconds\n",
      "Selected Features:  ['CRIM', 'ZN', 'RM', 'AGE', 'DIS', 'TAX']\n",
      "Distance Parameter (L):  2\n",
      "K value:  20\n",
      "Average error:  1.1628046750389973\n",
      "Time taken: 2.01 seconds\n",
      "Selected Features:  ['CRIM', 'ZN', 'RM', 'AGE', 'DIS', 'TAX']\n",
      "Distance Parameter (L):  2\n",
      "K value:  21\n",
      "Average error:  1.0107634304289745\n",
      "Time taken: 1.88 seconds\n",
      "Selected Features:  ['CRIM', 'ZN', 'RM', 'AGE', 'DIS', 'TAX']\n",
      "Distance Parameter (L):  2\n",
      "K value:  22\n",
      "Average error:  1.163343307380258\n",
      "Time taken: 1.79 seconds\n",
      "Selected Features:  ['CRIM', 'ZN', 'RM', 'AGE', 'DIS', 'TAX']\n",
      "Distance Parameter (L):  2\n",
      "K value:  23\n",
      "Average error:  1.2333504773011912\n",
      "Time taken: 1.82 seconds\n",
      "Selected Features:  ['CRIM', 'ZN', 'RM', 'AGE', 'DIS', 'TAX']\n",
      "Distance Parameter (L):  2\n",
      "K value:  24\n",
      "Average error:  1.244623332543182\n",
      "Time taken: 1.87 seconds\n",
      "Selected Features:  ['CRIM', 'ZN', 'RM', 'AGE', 'DIS', 'TAX']\n",
      "Distance Parameter (L):  2\n",
      "K value:  25\n",
      "Average error:  1.2949494905843701\n",
      "Time taken: 1.82 seconds\n"
     ]
    }
   ],
   "source": [
    "# testing knn function, using different K values (1 - 25)\n",
    "# setting features: \n",
    "features7 = ['CRIM', 'ZN', 'RM', 'AGE', 'DIS', 'TAX']\n",
    "K = 25\n",
    "error_saver = []\n",
    "# checking all k values\n",
    "for k in range(K):\n",
    "    error = knn(data_pd, features7, 2, k+1)\n",
    "    \n",
    "    # saving error to graph\n",
    "    error_saver.append([error, k])\n",
    "\n"
   ]
  },
  {
   "cell_type": "markdown",
   "metadata": {},
   "source": [
    "###3.7 Using cross validation to find K\n",
    "\n",
    "What is the best choice of K?  Compute the RMSE for values of K between 1 and 25 using 10-fold cross-validation.  Use the following features in your model, and don't forget to normalize: CRIM, ZN, RM, AGE, DIS, TAX.  Create a graph that shows how RMSE changes as K increases from 1 to 25.  Label your axes, and summarize what you see.  What do you think is a reasonable choice of K for this model?"
   ]
  },
  {
   "cell_type": "code",
   "execution_count": 61,
   "metadata": {},
   "outputs": [
    {
     "name": "stderr",
     "output_type": "stream",
     "text": [
      "C:\\Users\\maryh\\Anaconda3\\lib\\site-packages\\matplotlib\\cbook\\deprecation.py:106: MatplotlibDeprecationWarning: Adding an axes using the same arguments as a previous axes currently reuses the earlier instance.  In a future version, a new instance will always be created and returned.  Meanwhile, this warning can be suppressed, and the future behavior ensured, by passing a unique label to each axes instance.\n",
      "  warnings.warn(message, mplDeprecation, stacklevel=1)\n"
     ]
    },
    {
     "data": {
      "image/png": "[encoded data removed]",
      "text/plain": [
       "<matplotlib.figure.Figure at 0x3472af0>"
      ]
     },
     "metadata": {},
     "output_type": "display_data"
    }
   ],
   "source": [
    "# Best choice of K is 21: has the lowest error of 1.0107634304289745, all other K vales rendered a larger error\n",
    "# change error into a dataframe \n",
    "error_saver = pd.DataFrame(error_saver, columns = [\"Error\", \"K\"])\n",
    "\n",
    "# plot errors in scatter plot\n",
    "plt.scatter(error_saver.K, error_saver.Error, color='green')\n",
    "\n",
    "# Adds appropriate labels to the x and y axes \n",
    "plt.title('Average Error based on K')\n",
    "plt.xlabel('K values')\n",
    "plt.ylabel('Error')\n",
    "\n",
    "#Remove the axes on the top and right side of the plot window\n",
    "ax = plt.axes()\n",
    "ax.spines['right'].set_visible(False)\n",
    "ax.spines['top'].set_visible(False)"
   ]
  },
  {
   "cell_type": "code",
   "execution_count": 65,
   "metadata": {},
   "outputs": [
    {
     "name": "stderr",
     "output_type": "stream",
     "text": [
      "C:\\Users\\maryh\\Anaconda3\\lib\\site-packages\\matplotlib\\cbook\\deprecation.py:106: MatplotlibDeprecationWarning: Adding an axes using the same arguments as a previous axes currently reuses the earlier instance.  In a future version, a new instance will always be created and returned.  Meanwhile, this warning can be suppressed, and the future behavior ensured, by passing a unique label to each axes instance.\n",
      "  warnings.warn(message, mplDeprecation, stacklevel=1)\n"
     ]
    },
    {
     "data": {
      "image/png": "[encoded data removed]",
      "text/plain": [
       "<matplotlib.figure.Figure at 0x35fd990>"
      ]
     },
     "metadata": {},
     "output_type": "display_data"
    }
   ],
   "source": [
    "# Histagrom to look at the number of occurances errors had\n",
    "plt.hist(error_saver.Error, color='green')\n",
    "\n",
    "# Adds appropriate labels to the x and y axes \n",
    "plt.title('Average Error Count')\n",
    "plt.xlabel('Error')\n",
    "plt.ylabel('Count')\n",
    "\n",
    "#Remove the axes on the top and right side of the plot window\n",
    "ax = plt.axes()\n",
    "ax.spines['right'].set_visible(False)\n",
    "ax.spines['top'].set_visible(False)"
   ]
  },
  {
   "cell_type": "markdown",
   "metadata": {},
   "source": [
    "### Observations:\n",
    "\n",
    "Looks like the highest errors occured between K = 10 - 15. Values before and after that range gave smaller errors. Particularly, error was smallest at 21. Looks like the best way to get a good K value is to guess, check, and observe. "
   ]
  }
 ],
 "metadata": {
  "kernelspec": {
   "display_name": "Python 3",
   "language": "python",
   "name": "python3"
  },
  "language_info": {
   "codemirror_mode": {
    "name": "ipython",
    "version": 3
   },
   "file_extension": ".py",
   "mimetype": "text/x-python",
   "name": "python",
   "nbconvert_exporter": "python",
   "pygments_lexer": "ipython3",
   "version": "3.6.3"
  }
 },
 "nbformat": 4,
 "nbformat_minor": 1
}
